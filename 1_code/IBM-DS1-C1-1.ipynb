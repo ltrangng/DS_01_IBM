{
 "cells": [
  {
   "cell_type": "markdown",
   "metadata": {},
   "source": [
    "# Module 1. What is Data Science?"
   ]
  },
  {
   "cell_type": "markdown",
   "metadata": {},
   "source": [
    "![](https://www.edureka.co/blog/wp-content/uploads/2017/01/What-is-Data-Science-A-2.png)"
   ]
  },
  {
   "cell_type": "markdown",
   "metadata": {},
   "source": [
    "## What is Data Science?\n",
    "\n",
    "There are many definitions of Data Science:\n",
    "\n",
    "- Data science is the study of data. Data has real properities that require to be studied if we want to work on them.\n",
    "\n",
    "- Data Science is the process of using data to understand different things, to understand the world.\n",
    "\n",
    "- Data science is the art of uncovering the insights and trends that are hiding behind data to make strategic choices for a company or an institution.\n",
    "\n",
    "- Data science is a field about processes and systems to extract data from various forms of whether it is unstructured or structured form. \n",
    "\n",
    "Data Science involves data and some science. The definition or the name came up in the 80s and 90s when some professors were looking into the statistics curriculum, and they thought it would be better to call it data science. In a nutshell, Data Science could be defined: \n",
    "\n",
    ">*Data Science is the field of exploring, manipulating, and analyzing data, and using data to answer questions or make recommendations.*\n",
    "\n",
    "\n",
    "Data Science is relevant today because:\n",
    "\n",
    "- there is incredibly increasing amount of data available. \n",
    "\n",
    "- there are algorithms, open source and free softwares, inexpensive data storages available to work with data.\n",
    "\n",
    "![](https://assets.sutori.com/user-uploads/image/66ca276d-85a1-4135-9ba6-58b60187636a/f972c098c7d36558dd035761d653a60d.jpeg)"
   ]
  },
  {
   "cell_type": "code",
   "execution_count": null,
   "metadata": {},
   "outputs": [],
   "source": []
  }
 ],
 "metadata": {
  "kernelspec": {
   "display_name": "Python 3",
   "language": "python",
   "name": "python3"
  },
  "language_info": {
   "codemirror_mode": {
    "name": "ipython",
    "version": 3
   },
   "file_extension": ".py",
   "mimetype": "text/x-python",
   "name": "python",
   "nbconvert_exporter": "python",
   "pygments_lexer": "ipython3",
   "version": "3.8.3"
  }
 },
 "nbformat": 4,
 "nbformat_minor": 4
}
